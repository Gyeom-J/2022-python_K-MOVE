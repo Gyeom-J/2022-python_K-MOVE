{
  "nbformat": 4,
  "nbformat_minor": 0,
  "metadata": {
    "colab": {
      "provenance": [],
      "collapsed_sections": [],
      "authorship_tag": "ABX9TyM7TVQrrSRSjnNS6jg01WuS",
      "include_colab_link": true
    },
    "kernelspec": {
      "name": "python3",
      "display_name": "Python 3"
    },
    "language_info": {
      "name": "python"
    }
  },
  "cells": [
    {
      "cell_type": "markdown",
      "metadata": {
        "id": "view-in-github",
        "colab_type": "text"
      },
      "source": [
        "<a href=\"https://colab.research.google.com/github/Gyeom-J/python_K-Move/blob/main/2022_09_27.ipynb\" target=\"_parent\"><img src=\"https://colab.research.google.com/assets/colab-badge.svg\" alt=\"Open In Colab\"/></a>"
      ]
    },
    {
      "cell_type": "code",
      "execution_count": 1,
      "metadata": {
        "colab": {
          "base_uri": "https://localhost:8080/"
        },
        "id": "RMqz6VelOGWq",
        "outputId": "eae13bb1-c117-4805-b9d0-41faef2949dd"
      },
      "outputs": [
        {
          "output_type": "execute_result",
          "data": {
            "text/plain": [
              "3"
            ]
          },
          "metadata": {},
          "execution_count": 1
        }
      ],
      "source": [
        "import math\n",
        "math.sin(1)\n",
        "math.cos(1)\n",
        "math.tan(1)\n",
        "math.floor(2.5)\n",
        "math.ceil(2.5)"
      ]
    },
    {
      "cell_type": "code",
      "source": [
        "import random\n",
        "print(\"#random module\")\n",
        "\n",
        "#random(): 0.0 <= x < 1.0 사이의 float를 리턴합니다.\n",
        "print(\"-random():\", random.random())\n",
        "\n",
        "#uniform(min,max):지정한 범위 사이의 float를 리턴합니다.\n",
        "print(\"-uniform(10,20):\",random.uniform(10,20))\n",
        "\n",
        "#randrange() : 지정한 범위의 int를 리턴합니다.\n",
        "#randrange(max): 0부터 max사이의 값을 리턴합니다.\n",
        "#randrange(min,max): min부터 max사이의 값을 리턴합니다.\n",
        "print(\"-randrange(10)\",random.randrange(10))"
      ],
      "metadata": {
        "colab": {
          "base_uri": "https://localhost:8080/"
        },
        "id": "cqydgvM9S3LP",
        "outputId": "8bd5127b-ca33-412a-ace0-021c2788f5c0"
      },
      "execution_count": 2,
      "outputs": [
        {
          "output_type": "stream",
          "name": "stdout",
          "text": [
            "#random module\n",
            "-random(): 0.9065778693303606\n",
            "-uniform(10,20): 10.730538012831524\n",
            "-randrange(10) 9\n"
          ]
        }
      ]
    },
    {
      "cell_type": "code",
      "source": [
        "import os\n",
        "with open(\"original.txt\",\"w\") as file:\n",
        "    file.write(\"hello\")\n",
        "    os.rename(\"original.txt\",\"new.txt\")\n",
        "\n",
        "    os.remove(\"new.txt\")\n",
        "\n",
        "    os.system(\"dir\")"
      ],
      "metadata": {
        "id": "0LhM9KQfWY2J"
      },
      "execution_count": 4,
      "outputs": []
    }
  ]
}